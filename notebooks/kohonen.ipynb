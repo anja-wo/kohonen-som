{
 "cells": [
  {
   "cell_type": "code",
   "execution_count": null,
   "metadata": {},
   "outputs": [],
   "source": [
    "import numpy as np\n",
    "import matplotlib.pyplot as plt\n",
    "import snakeviz\n",
    "%load_ext snakeviz"
   ]
  },
  {
   "cell_type": "code",
   "execution_count": null,
   "metadata": {},
   "outputs": [],
   "source": [
    "import os\n",
    "import sys\n",
    "from math import log\n",
    "\n",
    "module_path = os.path.abspath(os.path.join('..'))\n",
    "if module_path not in sys.path:\n",
    "    sys.path.append(module_path)\n",
    "\n",
    "from src.kohonen_som import KohonenSOM\n",
    "\n",
    "som_class = KohonenSOM(10,10,3,11)\n",
    "\n",
    "# Create random data set with 10 entries\n",
    "rand = np.random.RandomState(0)\n",
    "#train_data = rand.randint(0, 255, (20, 3))\n",
    "train_data = np.random.random((20,3))\n",
    "\n",
    "\n",
    "# Train SOM   \n",
    "%prun -D program.prof som_class.train_som(train_data, 2000)\n",
    "\n",
    "fig, ax = plt.subplots(\n",
    "    nrows=1, ncols=3, figsize=(12, 3.5), \n",
    "    subplot_kw=dict(xticks=[], yticks=[]))\n",
    "ax[0].imshow(train_data.reshape(5,4,3), vmin=0, vmax=1)\n",
    "ax[0].title.set_text('Train Data')\n",
    "ax[1].imshow(som_class.som_grid_initial, vmin=0, vmax=1)\n",
    "ax[1].title.set_text('Som Initial Data')\n",
    "ax[2].imshow(som_class.som_grid, vmin=0, vmax=1)\n",
    "ax[2].title.set_text('Som trained')\n"
   ]
  },
  {
   "cell_type": "code",
   "execution_count": null,
   "metadata": {},
   "outputs": [],
   "source": [
    "from collections import Counter, defaultdict\n",
    "from sklearn.model_selection import train_test_split\n",
    "from sklearn.metrics import classification_report\n",
    "\n",
    "module_path = os.path.abspath(os.path.join('..'))\n",
    "if module_path not in sys.path:\n",
    "    sys.path.append(module_path)\n",
    "\n",
    "data = np.genfromtxt('../resources/data.csv', delimiter=',', usecols=(0,1,2,3), skip_header=1)\n",
    "#data = (data - np.min(data)) / (np.max(data) - np.min(data))\n",
    "data = np.apply_along_axis(lambda x: x/np.linalg.norm(x), 1, data)\n",
    "labels = np.genfromtxt('../resources/data.csv', delimiter=',', usecols=(4), dtype=str, skip_header=1)\n",
    "\n",
    "X_train, X_test, y_train, y_test = train_test_split(data, labels, stratify=labels, test_size=0.20)\n",
    "\n",
    "som_class = KohonenSOM(7,7,4,3,0.5)\n",
    "som_class.train_som(X_train, 2000)\n",
    "\n",
    "winmap = defaultdict(list)\n",
    "for x, l in zip(X_train, y_train):\n",
    "    winmap[som_class.find_bmu(x)].append(l)\n",
    "for position in winmap:\n",
    "    winmap[position] = Counter(winmap[position])\n",
    "\n",
    "default_class = np.sum(list(winmap.values())).most_common()[0][0]\n",
    "\n",
    "def classify(som: KohonenSOM, data):\n",
    "    \"\"\"Classifies each sample in data in one of the classes definited\n",
    "    using the method labels_map.\n",
    "    Returns a list of the same length of data where the i-th element\n",
    "    is the class assigned to data[i].\n",
    "    \"\"\"\n",
    "    \n",
    "    result = []\n",
    "    for d in data:\n",
    "        win_position = som.find_bmu(d)\n",
    "        if win_position in winmap:\n",
    "            result.append(winmap[win_position].most_common()[0][0])\n",
    "        else:\n",
    "            result.append(default_class)\n",
    "    return result\n",
    "\n",
    "print(classification_report(y_test, classify(som_class, X_test)))\n",
    "\n"
   ]
  }
 ],
 "metadata": {
  "kernelspec": {
   "display_name": "Python 3.8.8 ('.venv': venv)",
   "language": "python",
   "name": "python3"
  },
  "language_info": {
   "codemirror_mode": {
    "name": "ipython",
    "version": 3
   },
   "file_extension": ".py",
   "mimetype": "text/x-python",
   "name": "python",
   "nbconvert_exporter": "python",
   "pygments_lexer": "ipython3",
   "version": "3.8.8"
  },
  "orig_nbformat": 4,
  "vscode": {
   "interpreter": {
    "hash": "0c390ac6835261f8b51e1982f163bee25e8adb438d2671a512ddd1b47cb42b5b"
   }
  }
 },
 "nbformat": 4,
 "nbformat_minor": 2
}
